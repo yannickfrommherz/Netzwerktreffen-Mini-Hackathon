{
 "cells": [
  {
   "cell_type": "markdown",
   "id": "4f992dd3-41f4-4fe2-a167-b73c332aa1fe",
   "metadata": {},
   "source": [
    "# Mini-Hackathon Netzwerktreffen 🧑‍💻\n",
    "\n",
    "Heute trainieren wir ein sog. *Sprachmodell*, also ein künstliches Modell natürlicher Sprache. Dazu \"füttern\" wir einen darauf spezialisierten Algorithmus mit einer riesigen Menge an Sprachbeispielen. Als Sprachbeispiele verwenden wir einen Datensatz von [Wortschatz Leipzig](https://wortschatz.uni-leipzig.de/de) mit 100.000 Sätzen aus deutschen Zeitungsartikeln aus dem Jahr 2022. \n",
    "\n",
    "Grob formuliert, schaut sich der Algorithmus die Beispiele immer und immer wieder an und analysiert, wie und wo die einzelnen Wörter darin auftreten. Über die große Anzahl an Beispielen hinweg, findet der Algorithmus so Beziehungen zwischen den Wörtern sowie typische Muster, innerhalb derer sie auftreten (z.B. das vor \"bin\" typischerweise \"ich\" steht). Dadurch lernt der Algorithmus im Idealfall annäherungsweise die Bedeutung, die die Wörter für unser menschliches Sprachverständnis haben. \n",
    "\n",
    "Als Erstes importieren wir Python-Module, die wir zum Training benötigen und nehmen auch ein paar Einstellungen vor. Führe diese Zelle aus, indem Du in sie reinklickst und anschließend `Shift + Enter` drückt. Diesen Befehl sollst Du ab sofort bei jeder Code-Zelle ausführen."
   ]
  },
  {
   "cell_type": "code",
   "execution_count": 1,
   "id": "05dfb696",
   "metadata": {
    "tags": []
   },
   "outputs": [
    {
     "name": "stdout",
     "output_type": "stream",
     "text": [
      "Requirement already satisfied: numpy==1.24.3 in /Users/Yannick/opt/anaconda3/lib/python3.9/site-packages (1.24.3)\n"
     ]
    }
   ],
   "source": [
    "import gensim\n",
    "import pandas as pd\n",
    "import logging\n",
    "import warnings\n",
    "from tqdm import tqdm\n",
    "\n",
    "!pip install numpy==\"1.24.3\"\n",
    "import numpy as np\n",
    "assert np.__version__ == \"1.24.3\", \"Numpy version needs to be 1.24.3, else gensim model load won't work\"\n",
    "\n",
    "warnings.simplefilter(action=\"ignore\", category=FutureWarning)\n",
    "\n",
    "logging.basicConfig(format=\"%(asctime)s : %(levelname)s : %(message)s\", level=logging.INFO)"
   ]
  },
  {
   "cell_type": "markdown",
   "id": "db0fb21a-1dee-40ae-af31-3ad0662f27d7",
   "metadata": {},
   "source": [
    "## 1. Daten einlesen\n",
    "\n",
    "Nun wollen wir unseren Datensatz \"deu_news_2022_100K-sentences.txt\" aus dem Ordner \"data\" einlesen. Wenn Du die Datei mit dem Standardprogramm auf Deinem Rechner öffnest, siehst Du, dass es sich um eine Art Tabelle handelt, mit je einer Zahl sowie einem vollständigen Satz pro Zeile. \n",
    "\n",
    "Der Algorithmus, den wir zum Trainieren unseres Sprachmodells verwenden, nämlich [*word2vec*](https://en.wikipedia.org/wiki/Word2vec), verlangt eine Liste mit Sätzen, wobei jeder Satz wiederum als Liste mit Wörtern erwartet wird. Deshalb tokenisieren wir jeden Satz beim Einlesen und hängen ihn als Wortliste der Satzliste an. Zusätzlich entfernen wir die Zahl am Zeilenanfang. Führe die Zelle wiederum mittels `Shift + Enter` aus."
   ]
  },
  {
   "cell_type": "code",
   "execution_count": null,
   "id": "05540d2e",
   "metadata": {},
   "outputs": [],
   "source": [
    "data = \"data/deu_news_2022_100K-sentences.txt\"\n",
    "\n",
    "with open(data, encoding=\"utf-8\") as f:\n",
    "    \n",
    "    #Tokenisieren inkl. Wegsplitten der Indizes am Zeilenanfang\n",
    "    sentences = [sentence.split()[1:] for sentence in tqdm(f)]"
   ]
  },
  {
   "cell_type": "markdown",
   "id": "34080eb8",
   "metadata": {},
   "source": [
    "Inspizieren wir mal die eingelesenen Daten und lassen uns zwei Sätze ausgeben. Eckige Klammern begrenzen bei Python Listen, wobei die einzelnen Elemente einer Liste jeweils mit Kommata voneinander abgetrennt sind."
   ]
  },
  {
   "cell_type": "code",
   "execution_count": null,
   "id": "de7574fa",
   "metadata": {},
   "outputs": [],
   "source": [
    "print(sentences[10:12])"
   ]
  },
  {
   "cell_type": "markdown",
   "id": "f73df177-046f-4d16-bdba-49f85502740f",
   "metadata": {},
   "source": [
    "Das sieht schon mal sehr gut aus!\n",
    "\n",
    "Allerdings sehen wir, dass die Wörter diverse Zeichen enthalten, die wir beim Training nicht gebrauchen können. Das Anführungzeichen hinter 'Zustand\"' etwa hilft dem Algorithmus nicht, sich der Bedeutung von \"Zustand\" anzunähern. Ebenso unnötig ist der \".\" am Ende von \"Klimafolgenforschung.\". Wir müssen unsere Daten also bereinigen. Diesen Schritt nennt man *Preprocessing*."
   ]
  },
  {
   "cell_type": "markdown",
   "id": "758f5eee-1ff6-4970-964d-1ab8ea6ffeba",
   "metadata": {},
   "source": [
    "## 2. Daten bereinigen (Preprocessing)\n",
    "\n",
    "Die folgende Zelle definiert die Funktion `strip_special_signs`, die wir in der Zelle darunter auf unsere Daten anwenden. Sie identifiziert in einem ersten Schritt induktiv sämtliche nicht-alphanumerischen Zeichen in unseren Daten und entfernt diese im zweiten Schritt von sämtlichen Wortanfängen und -enden. Den Code musst Du nicht im Detail nachvollziehen können. Wenn er Dich aber interessiert, kannst Du die Kommentare (alles was mit `#` beginnt) lesen. Sie beschreiben jeweils, was der Code davor bzw. darunter tut. Führe die beiden Zellen in jedem Fall aus."
   ]
  },
  {
   "cell_type": "code",
   "execution_count": null,
   "id": "9ac60a54-06f4-4fdd-924f-59a5088baa62",
   "metadata": {},
   "outputs": [],
   "source": [
    "def strip_special_signs(list_of_lists):\n",
    "    \n",
    "    #Schritt 1\n",
    "    special_signs = set() #Definieren eines noch leeren Sets (math. Menge), an das wir sämtliche Spezialzeichen (Zeichen, die nicht zu den normal_signs gehören), anhängen\n",
    "    normal_signs = list(\"abcdefghijklmnopqrstuvwxyzäöüß1234567890\") #Schaffen einer Liste mit sämtlichen normalen alphanumerischen Zeichen\n",
    "    \n",
    "    print(\"Identifying special signs\") #Ausgabe des aktuellen Schritts\n",
    "    \n",
    "    #Iteration über alle Sätze...\n",
    "    for sentence in tqdm(sentences):\n",
    "        #...und Wörter in unseren Daten\n",
    "        for word in sentence:\n",
    "            #Überprüfen, ob das erste Zeichen (mit Index 0) beim jeweiligen Wort in der Liste normal_signs ist und wenn NICHT...\n",
    "            if word[0].lower() not in normal_signs:\n",
    "                #...Anhängen des jeweiligen Zeichens an das Set special_signs\n",
    "                special_signs.add(word[0])\n",
    "            #ebenfalls Überprüfen, ob letztes Zeichen beim jeweiligen Wort in der Liste normal_signs ist und wenn NICHT...\n",
    "            if word[-1].lower() not in normal_signs:  \n",
    "                #Anhängen des jeweiligen Zeichens an das Set special_signs\n",
    "                special_signs.add(word[-1])\n",
    "        \n",
    "    #Schritt 2\n",
    "    print(\"Stripping off special signs\") #Ausgabe des aktuellen Schritts\n",
    "    \n",
    "    preprocessed_sentences = [] #Definieren einer noch leeren Liste, an die wir sämtliche bereingten Sätze anhängen\n",
    "    \n",
    "    #Iteration über alle noch unbereingten Sätze...\n",
    "    for sentence in tqdm(sentences):\n",
    "        preprocessed_sentence = [] #Definieren einer leeren Liste, an die wir sämtliche bereingten Wörter EINES Satzes anhängen (Liste wird bei jeder Iteration neu geschaffen)\n",
    "        #...und unbereingten Wörter\n",
    "        for word in sentence:\n",
    "            #Entfernen (strip) aller Spezialzeichen am Wortanfang und -ende\n",
    "            preprocessed_word = word.strip(\"\".join(special_signs))\n",
    "            #Sofern Wort länger als null Buchstaben...\n",
    "            if len(preprocessed_word) > 0:\n",
    "                #Anhängen an Liste mit sämtlichen bereinigten Wörtern\n",
    "                preprocessed_sentence.append(preprocessed_word)\n",
    "        #Anhängen der Liste mit bereingten Wörtern an Liste mit bereinigten Sätzen\n",
    "        preprocessed_sentences.append(preprocessed_sentence)\n",
    "        \n",
    "    #Rückgabe der Liste mit bereingten Sätzen\n",
    "    return preprocessed_sentences"
   ]
  },
  {
   "cell_type": "code",
   "execution_count": null,
   "id": "1639394f-b9b7-4246-afce-97e64c4534f8",
   "metadata": {},
   "outputs": [],
   "source": [
    "preprocessed_sentences = strip_special_signs(sentences)"
   ]
  },
  {
   "cell_type": "markdown",
   "id": "a0d14413-6e21-47ed-8fb4-f3c47a08ed6e",
   "metadata": {},
   "source": [
    "`preprocessed_sentences` bezeichnet jetzt die Liste mit bereinigten Sätzen. Schauen wir uns nochmal die gleichen Sätze wie oben an:"
   ]
  },
  {
   "cell_type": "code",
   "execution_count": null,
   "id": "070b4331-44a6-4493-9038-8292b599e854",
   "metadata": {},
   "outputs": [],
   "source": [
    "print(preprocessed_sentences[10:12])"
   ]
  },
  {
   "cell_type": "markdown",
   "id": "cfde3fca-b543-446e-a73f-8169c7453c36",
   "metadata": {},
   "source": [
    "Das hat doch wunderbar geklappt. \n",
    "\n",
    "Nun sind unsere Daten bereit fürs Training!"
   ]
  },
  {
   "cell_type": "markdown",
   "id": "452a4ecb",
   "metadata": {},
   "source": [
    "## 3. Training"
   ]
  },
  {
   "cell_type": "markdown",
   "id": "5609588d",
   "metadata": {
    "tags": []
   },
   "source": [
    "Während die Bedeutung von Wörtern bei Menschen im Sprachzentrum des Gehirns abgespeichert ist, so werden Wortbedeutungen bei word2vec in Form von Vektoren repräsentiert, also grob formuliert als Zahlenreihen, z.B. so: \n",
    "\n",
    "    [0.9823969, -0.16720027,  0.69778556, -0.10027876,  0.70647484,  1.0204794, ...].\n",
    "\n",
    "### 3.1. Was ist ein Vektor?\n",
    "\n",
    "Ein Vektor besteht aus einer bestimmten Anzahl an Zahlen, wobei jede Zahl angibt, inwiefern ein bestimmtes *Feature* bei einem gegebenen Wort zutrifft. Vereinfacht kann man sich einen Vektor als eine Art Reihe an numerischen Antworten auf sinnvolle Fragen vorstellen. Die erste Zahl im Vektor (das erste Feature) stünde z.B. immer für die Anzahl an Buchstaben in einem gegebenen Wort, die zweite Zahl für die Auftretenshäufigkeit im Satz, etc. Ein komplexer Algorithmus wie word2vec kodiert allerdings keine für Menschen sinnvollen Features (Frage-Antwort-Paare), sondern die abstrakten Beziehungen und Muster zwischen Wörtern, die er beim Training entdeckt. Bei genügend Daten kann ein Modell so durchaus semantisch-syntaktisch sinnvolle Repräsentationen von Wörtern erlernen. Insgesamt entsteht beim Training ein Vektorraum, in dem die einzelnen Wortvektoren eingebettet sind, weswegen wir auch von *Word Embeddings* sprechen.\n",
    "\n",
    "### 3.2. Wie funktioniert das Training?\n",
    "\n",
    "Grundsätzlich unterscheidet man beim Training eines Modells zwischen überwachtem und unüberwachtem Lernen (*supervised* vs. *unsupervised learning*). Bei überwachtem Lernen wird ein Algorithmus mit annotierten Daten gefüttert, z.B. Bildern von Katzen und anderen Tieren, wobei jedes Bild mit dem Label \"Katze\" oder \"Nicht-Katze\" versehen ist. Ein Katzendetektor-Algorithmus hat beim Training Zugang zur \"Wahrheit\", also zur korrekten Antwort (\"Katze\" oder \"Nicht-Katze\"). Ziel des Trainings ist es, dass der Algorithmus über die Trainingsdaten hinaus zu *generalisieren* lernt, d.h. dass er nach dem Training auch unannotierten Input korrekt als Katze oder Nicht-Katze bestimmen kann. \n",
    "\n",
    "Unüberwachtes Lernen hingegen benötigt keinerlei menschlichen Input, abgesehen von unannotierten Trainingsdaten. Word2vec ist ein unüberwachter Algorithmus. Fürs Training schafft sich word2vec ganz einfach seine eigenen Trainingsdaten: Basierend auf den vorangehenden und folgenden Wörtern innerhalb eines Satzes versucht word2vec ein verdecktes Wort in der Mitte vorherzusagen: Bei \"Der schwarze Hund _____ laut\" wäre \"bellt\" z.B. eine gute Vorhersage. Die Idee hinter word2vec und Word Embeddings im Allgemeinen ist nun, dass der Algorithmus für ähnliche Wörter ähnliche Vektoren erlernt, denn ähnliche Wörter kommen in ähnlichen Kontexten (mit ähnlichen vorangehenden und folgenden Wörter) vor. \"knurrt\", das ebenfalls ein guter Lückenfüller wäre, sollte demnach einen ähnlichen Vektor wie \"bellt\" haben. Die Ähnlichkeit von Wörtern gemäß unseres Sprachmodells schauen wir uns unten im Detail an. Zuerst müssen wir das Modell nun aber trainieren.\n",
    "\n",
    "---\n",
    "\n",
    "Wir legen dazu ein paar Parameter fest, u.a.:\n",
    "\n",
    "- `vector_size`, das die Anzahl an Features pro Vektor festlegt.\n",
    "- `window` das festlegt, wie viele Wörter vor bzw. nach dem verdeckten Wort als Kontext beim Training berücksichtigt werden sollen.\n",
    "- `min_count`, das festlegt, wie oft ein Wort im Datensatz mindestens vorkommen muss, um beim Training berücksichtigt zu werden.\n",
    "- `epochs`, das festlegt, wie oft der Algorithmus den ganzen Datensatz analysieren soll.\n",
    "\n",
    "Und los geht\"s! Das Training nimmt ein paar Sekunden in Anspruch. Es ist fertig, wenn das Sternchen links neben der Zelle unten durch eine Zahl ersetzt wird."
   ]
  },
  {
   "cell_type": "code",
   "execution_count": null,
   "id": "e8310964",
   "metadata": {
    "scrolled": true,
    "tags": []
   },
   "outputs": [],
   "source": [
    "model = gensim.models.Word2Vec(preprocessed_sentences, vector_size=200, window=6, min_count=3) \n",
    "model.train(sentences, total_examples=len(sentences), epochs=10) "
   ]
  },
  {
   "cell_type": "markdown",
   "id": "dc97d83e",
   "metadata": {},
   "source": [
    "Nun ist das Modell fertig trainiert.\n",
    "\n",
    "Schauen wir uns mal den Vektor des Worts \"Universität\" an."
   ]
  },
  {
   "cell_type": "code",
   "execution_count": null,
   "id": "a7623742-215b-44c2-935b-633169e8e5f7",
   "metadata": {},
   "outputs": [],
   "source": [
    "search_term = \"Universität\"\n",
    "print(model.wv[search_term]) #wv steht für word vector"
   ]
  },
  {
   "cell_type": "markdown",
   "id": "798334db-07a4-4127-8d25-f8f6eceda05b",
   "metadata": {},
   "source": [
    "Spiel gerne mit anderen Wörter herum, indem Du sie bei `search_term` zwischen den Anführungszeichen einsetzt. Bei Wörtern, die das Modell nicht kennt (weil sie nicht (genügend oft) in unseren Daten vorkamen) erhältst Du einen `KeyError`.\n",
    "\n",
    "## 4. Das Modell\n",
    "\n",
    "Insgesamt sind diese Vektoren komplett nichtssagend für unser Sprachverständnis. Schauen wir aber, ob das Modell dennoch die Semantik von \"Universität\" auf seine eigene, vektorielle Weise einfangen konnte.\n",
    "\n",
    "### 4.1. Ähnlichkeiten\n",
    "\n",
    "Dies können wir etwa tun, in dem wir uns das ähnlichste Wort im Sprachmodell ausgeben lassen, also dasjenige Wort mit dem ähnlichsten Vektor:"
   ]
  },
  {
   "cell_type": "code",
   "execution_count": null,
   "id": "cd0e157a-fa2b-401e-a1ae-36c503aadff2",
   "metadata": {},
   "outputs": [],
   "source": [
    "search_term = \"Universität\"\n",
    "most_similar = pd.DataFrame(model.wv.most_similar(search_term, topn=10), columns=[\"Word\", \"Similarity\"], index=range(1,11))\n",
    "most_similar.head(1)"
   ]
  },
  {
   "cell_type": "markdown",
   "id": "9fc9c32f-bfd5-456b-a0bf-dbe986061a67",
   "metadata": {},
   "source": [
    "Vermutlich kommt \"Hochschule\" als ähnlichstes Wort heraus. Faszinierend, oder? Setze gerne weitere Wörter bei `search_term` zwischen den Anführungszeichen ein!\n",
    "\n",
    "⚠️ Achtung: Hier steht \"vermutlich\", da jedes Modell unterschiedlich ist, auch wenn die Trainingsdaten identisch waren. Dies liegt daran, dass unser Algorithmus nicht *deterministisch* ist. Ganz am Anfang des Trainings werden den Features der Vektoren nämlich zufällige Werte zugewiesen. Das Training des Algorithmus besteht dann darin, die Features von Runde zu Runde anzupassen, um bessere Vorhersagen zu erzielen (also das verdeckte Wort besser zu erraten).\n",
    "\n",
    "Schauen wir uns die nächstähnlichen Wörter zu \"Universität\" ebenfalls an:"
   ]
  },
  {
   "cell_type": "code",
   "execution_count": null,
   "id": "296daf15-84a0-4399-8c06-274d282892fd",
   "metadata": {},
   "outputs": [],
   "source": [
    "most_similar.head(10)"
   ]
  },
  {
   "cell_type": "markdown",
   "id": "d9547232-ae1b-42b0-bf4c-27332069c857",
   "metadata": {},
   "source": [
    "Spätestens hier sollten sich Unterschiede zwischen verschiedenen Modellen zeigen. Vermutlich sind auch nicht mehr alle Wörter für unser menschliches Sprachgefühl ähnlich zu \"Universität\". \n",
    "\n",
    "Wir könnten nun mit den Parametern oben experimentieren (z.B. mehr Epochen oder ein größeres/kleineres Kontextfenster), um bessere Resultate zu erzielen. Zielführender ist es jedoch, das Modell mit einem größeren Datensatz zu füttern. Die Quantität an Trainingsdaten ist absolut entscheidend für ein gutes Sprachmodell, wobei die Qualität der Trainingsdaten (d.h. z.B., ob sie ausgewogen und repräsentativ sind) auch nicht außer Acht gelassen werden sollte! \n",
    "\n",
    "Da wir an der Qualität kurzfristig nichts ändern können, verzehnfachen wir einfach mal die Quantität. Das Training mit 1 Million Sätze aus dem Wortschatz Leipzig würde relativ lange dauern, weswegen wir ganz einfach das bereits trainierte Modell \"word2vec_1m.model\" aus dem Ordner \"model\" in den Arbeitsspeicher laden:"
   ]
  },
  {
   "cell_type": "code",
   "execution_count": 2,
   "id": "49d87d91-83d9-42c6-9127-26c1208fe5ba",
   "metadata": {},
   "outputs": [
    {
     "name": "stderr",
     "output_type": "stream",
     "text": [
      "2023-06-08 15:06:27,899 : INFO : loading Word2Vec object from model/word2vec_1M.model\n",
      "2023-06-08 15:06:27,964 : INFO : loading wv recursively from model/word2vec_1M.model.wv.* with mmap=None\n",
      "2023-06-08 15:06:27,965 : INFO : loading vectors from model/word2vec_1M.model.wv.vectors.npy with mmap=None\n",
      "2023-06-08 15:06:28,007 : INFO : loading syn1neg from model/word2vec_1M.model.syn1neg.npy with mmap=None\n",
      "2023-06-08 15:06:28,064 : INFO : setting ignored attribute cum_table to None\n",
      "2023-06-08 15:06:29,061 : INFO : Word2Vec lifecycle event {'fname': 'model/word2vec_1M.model', 'datetime': '2023-06-08T15:06:29.061751', 'gensim': '4.3.1', 'python': '3.8.13 (default, Mar 28 2022, 06:16:26) \\n[Clang 12.0.0 ]', 'platform': 'macOS-10.16-x86_64-i386-64bit', 'event': 'loaded'}\n"
     ]
    }
   ],
   "source": [
    "model = gensim.models.Word2Vec.load(\"model/word2vec_1M.model\")"
   ]
  },
  {
   "cell_type": "markdown",
   "id": "6f56bee6-1592-404f-a1e2-b1c8bfe6d6f6",
   "metadata": {},
   "source": [
    "Schauen wir uns nun die zehn ähnlichsten Wörter zu \"Universität\" an:"
   ]
  },
  {
   "cell_type": "code",
   "execution_count": 3,
   "id": "fd884364-dbe6-465f-b2e1-a9aa145a0677",
   "metadata": {},
   "outputs": [
    {
     "data": {
      "text/html": [
       "<div>\n",
       "<style scoped>\n",
       "    .dataframe tbody tr th:only-of-type {\n",
       "        vertical-align: middle;\n",
       "    }\n",
       "\n",
       "    .dataframe tbody tr th {\n",
       "        vertical-align: top;\n",
       "    }\n",
       "\n",
       "    .dataframe thead th {\n",
       "        text-align: right;\n",
       "    }\n",
       "</style>\n",
       "<table border=\"1\" class=\"dataframe\">\n",
       "  <thead>\n",
       "    <tr style=\"text-align: right;\">\n",
       "      <th></th>\n",
       "      <th>Word</th>\n",
       "      <th>Similarity</th>\n",
       "    </tr>\n",
       "  </thead>\n",
       "  <tbody>\n",
       "    <tr>\n",
       "      <th>1</th>\n",
       "      <td>Uni</td>\n",
       "      <td>0.818986</td>\n",
       "    </tr>\n",
       "    <tr>\n",
       "      <th>2</th>\n",
       "      <td>TU</td>\n",
       "      <td>0.765602</td>\n",
       "    </tr>\n",
       "    <tr>\n",
       "      <th>3</th>\n",
       "      <td>Hochschule</td>\n",
       "      <td>0.754937</td>\n",
       "    </tr>\n",
       "    <tr>\n",
       "      <th>4</th>\n",
       "      <td>Fachhochschule</td>\n",
       "      <td>0.701490</td>\n",
       "    </tr>\n",
       "    <tr>\n",
       "      <th>5</th>\n",
       "      <td>Fakultät</td>\n",
       "      <td>0.700440</td>\n",
       "    </tr>\n",
       "    <tr>\n",
       "      <th>6</th>\n",
       "      <td>University</td>\n",
       "      <td>0.688023</td>\n",
       "    </tr>\n",
       "    <tr>\n",
       "      <th>7</th>\n",
       "      <td>ETH</td>\n",
       "      <td>0.651283</td>\n",
       "    </tr>\n",
       "    <tr>\n",
       "      <th>8</th>\n",
       "      <td>Akademie</td>\n",
       "      <td>0.629118</td>\n",
       "    </tr>\n",
       "    <tr>\n",
       "      <th>9</th>\n",
       "      <td>FH</td>\n",
       "      <td>0.616055</td>\n",
       "    </tr>\n",
       "    <tr>\n",
       "      <th>10</th>\n",
       "      <td>Professor</td>\n",
       "      <td>0.614389</td>\n",
       "    </tr>\n",
       "  </tbody>\n",
       "</table>\n",
       "</div>"
      ],
      "text/plain": [
       "              Word  Similarity\n",
       "1              Uni    0.818986\n",
       "2               TU    0.765602\n",
       "3       Hochschule    0.754937\n",
       "4   Fachhochschule    0.701490\n",
       "5         Fakultät    0.700440\n",
       "6       University    0.688023\n",
       "7              ETH    0.651283\n",
       "8         Akademie    0.629118\n",
       "9               FH    0.616055\n",
       "10       Professor    0.614389"
      ]
     },
     "execution_count": 3,
     "metadata": {},
     "output_type": "execute_result"
    }
   ],
   "source": [
    "search_term = \"Universität\"\n",
    "most_similar = pd.DataFrame(model.wv.most_similar(search_term, topn=10), columns=[\"Word\", \"Similarity\"], index=range(1,11))\n",
    "most_similar.head(10)"
   ]
  },
  {
   "cell_type": "markdown",
   "id": "6a341e1f-fd38-41f6-9d3b-b0130b8c7107",
   "metadata": {},
   "source": [
    "Dies sieht schon viel besser aus! \n",
    "\n",
    "Wenn wir nicht bloß an den ähnlichsten Wörtern zu einem bestimmten Wort interessiert sind, sondern daran, wie ähnlich bestimmte Wortpaare zueinander sind, können wir folgendermaßen vorgehen:"
   ]
  },
  {
   "cell_type": "code",
   "execution_count": null,
   "id": "77835c17-9073-4cb0-8e19-6212a96778a4",
   "metadata": {},
   "outputs": [],
   "source": [
    "pairs = [\n",
    "    (\"Auto\", \"Fahrzeug\"),   \n",
    "    (\"Auto\", \"Fahrrad\"),   \n",
    "    (\"Auto\", \"Flugzeug\"), \n",
    "    (\"Auto\", \"Haferflocken\"), \n",
    "    (\"Auto\", \"Zahnbürste\")]\n",
    "\n",
    "for w1, w2 in pairs:\n",
    "    print(f\"{w1} und {w2:12} sind sich zu {model.wv.similarity(w1, w2)*100:.2f}% ähnlich.\")"
   ]
  },
  {
   "cell_type": "markdown",
   "id": "d807b1c4-abcf-4f5c-a11c-08188c1384a0",
   "metadata": {},
   "source": [
    "Auch interessant ist es, herauszufinden, welches Wort am wenigsten zu anderen gegebenen Wörtern passt:"
   ]
  },
  {
   "cell_type": "code",
   "execution_count": null,
   "id": "15da4eab-522d-494c-b07f-95c0e856b45a",
   "metadata": {},
   "outputs": [],
   "source": [
    "print(model.wv.doesnt_match([\"Berlin\", \"Hamburg\", \"Zürich\", \"Dresden\"]))"
   ]
  },
  {
   "cell_type": "markdown",
   "id": "67ecf5a8-f633-4a6b-bca1-95600049d21a",
   "metadata": {},
   "source": [
    "Experimentiere bei sämtlichen \"Ähnlichkeitsmethoden\" mit eigenen Begriffen herum, um herauszufinden, wie gut sich der Algorithmus Deinem Sprachverständnis nach Wortbedeutungen aneignen konnte.\n",
    "\n",
    "Wir können uns den Vektorraum auch visualisieren lassen, zwar nicht in all seinen 200 Dimensionen (jedes Feature entspricht einer Koordinate in einer Dimension), da das für Menschen schlicht nicht vorstellbar ist, aber reduziert auf drei Dimensionen. Wir benutzen dazu den Embedding Projector von TensorFlow. [Hier](https://projector.tensorflow.org/?config=https://raw.githubusercontent.com/yannickfrommherz/Netzwerktreffen/00ddc1470d64f14eb91cd93552c5d486adcd9897/tensorflow/config.json) findest Du eine Visualisierung des mit 1 Million Sätze trainierten Modells. "
   ]
  },
  {
   "cell_type": "code",
   "execution_count": null,
   "id": "0e231668-600b-4175-a99f-239a5cf29349",
   "metadata": {},
   "outputs": [],
   "source": []
  }
 ],
 "metadata": {
  "kernelspec": {
   "display_name": "python3",
   "language": "python",
   "name": "python3"
  },
  "language_info": {
   "codemirror_mode": {
    "name": "ipython",
    "version": 3
   },
   "file_extension": ".py",
   "mimetype": "text/x-python",
   "name": "python",
   "nbconvert_exporter": "python",
   "pygments_lexer": "ipython3",
   "version": "3.8.13"
  }
 },
 "nbformat": 4,
 "nbformat_minor": 5
}
